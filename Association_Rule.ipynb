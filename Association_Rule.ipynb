{
  "nbformat": 4,
  "nbformat_minor": 0,
  "metadata": {
    "colab": {
      "provenance": [],
      "authorship_tag": "ABX9TyPL1tinDfkP5kbF03sIPkzY",
      "include_colab_link": true
    },
    "kernelspec": {
      "name": "python3",
      "display_name": "Python 3"
    },
    "language_info": {
      "name": "python"
    }
  },
  "cells": [
    {
      "cell_type": "markdown",
      "metadata": {
        "id": "view-in-github",
        "colab_type": "text"
      },
      "source": [
        "<a href=\"https://colab.research.google.com/github/saxonmahar/Data_Science/blob/main/Association_Rule.ipynb\" target=\"_parent\"><img src=\"https://colab.research.google.com/assets/colab-badge.svg\" alt=\"Open In Colab\"/></a>"
      ]
    },
    {
      "cell_type": "code",
      "execution_count": 1,
      "metadata": {
        "id": "ZosaBTx-0igg"
      },
      "outputs": [],
      "source": [
        "import pandas as pd\n",
        "from mlxtend.frequent_patterns import apriori, association_rules"
      ]
    },
    {
      "cell_type": "code",
      "source": [
        "dataset = [\n",
        "    ['milk', 'bread', 'nuts'],\n",
        "    ['milk', 'bread'],\n",
        "    ['milk', 'bread', 'nuts'],\n",
        "    ['milk', 'apple'],\n",
        "    ['bread', 'apple'],\n",
        "]"
      ],
      "metadata": {
        "id": "hYWXsD9Q0osL"
      },
      "execution_count": 2,
      "outputs": []
    },
    {
      "cell_type": "code",
      "source": [
        "df = pd.DataFrame(dataset)\n",
        "df = df.apply(lambda x: pd.Series(x.dropna().values), axis=1).fillna('')\n",
        "df = df.apply(lambda row: list(filter(None, row)), axis=1)"
      ],
      "metadata": {
        "id": "JeqCV2ip0sum"
      },
      "execution_count": 3,
      "outputs": []
    },
    {
      "cell_type": "code",
      "source": [
        "from mlxtend.preprocessing import TransactionEncoder\n",
        "te = TransactionEncoder()\n",
        "te_data = te.fit_transform(df)\n",
        "df_encoded = pd.DataFrame(te_data, columns=te.columns_)"
      ],
      "metadata": {
        "id": "vRmfA2Vn01mM"
      },
      "execution_count": 4,
      "outputs": []
    },
    {
      "cell_type": "code",
      "source": [
        "frequent_items = apriori(df_encoded, min_support=0.5, use_colnames=True)\n",
        "rules = association_rules(frequent_items, metric=\"lift\", min_threshold=1)"
      ],
      "metadata": {
        "id": "_z5sBr3004z_"
      },
      "execution_count": 5,
      "outputs": []
    },
    {
      "cell_type": "code",
      "source": [
        "print(\"Frequent Itemsets:\\n\", frequent_items)\n",
        "print(\"\\nAssociation Rules:\\n\", rules[['antecedents', 'consequents', 'support', 'confidence', 'lift']])\n"
      ],
      "metadata": {
        "colab": {
          "base_uri": "https://localhost:8080/"
        },
        "id": "9smkR89k08f_",
        "outputId": "e9fa21e3-249e-4105-c211-d7540f23941e"
      },
      "execution_count": 6,
      "outputs": [
        {
          "output_type": "stream",
          "name": "stdout",
          "text": [
            "Frequent Itemsets:\n",
            "    support       itemsets\n",
            "0      0.8        (bread)\n",
            "1      0.8         (milk)\n",
            "2      0.6  (milk, bread)\n",
            "\n",
            "Association Rules:\n",
            " Empty DataFrame\n",
            "Columns: [antecedents, consequents, support, confidence, lift]\n",
            "Index: []\n"
          ]
        }
      ]
    },
    {
      "cell_type": "code",
      "source": [
        "import numpy as np\n",
        "import pandas as pd\n",
        "from sklearn.ensemble import IsolationForest\n",
        "from sklearn.neighbors import LocalOutlierFactor\n",
        "from scipy.stats import zscore\n",
        "import matplotlib.pyplot as plt"
      ],
      "metadata": {
        "id": "e474Lu7f1CFV"
      },
      "execution_count": 7,
      "outputs": []
    },
    {
      "cell_type": "code",
      "source": [
        "np.random.seed(42)\n",
        "normal_data = np.random.normal(loc=50, scale=5, size=100)\n",
        "outliers = np.array([20, 100, 105])  # Obvious outliers\n",
        "data = np.concatenate((normal_data, outliers)).reshape(-1, 1)"
      ],
      "metadata": {
        "id": "rPE2d_211FuI"
      },
      "execution_count": 8,
      "outputs": []
    },
    {
      "cell_type": "code",
      "source": [
        "z_scores = zscore(data)\n",
        "outlier_z = np.where(np.abs(z_scores) > 3)[0]"
      ],
      "metadata": {
        "id": "J8kC7jdB1I59"
      },
      "execution_count": 9,
      "outputs": []
    },
    {
      "cell_type": "code",
      "source": [
        "iso_forest = IsolationForest(contamination=0.05)\n",
        "pred_iforest = iso_forest.fit_predict(data)\n",
        "outlier_iforest = np.where(pred_iforest == -1)[0]"
      ],
      "metadata": {
        "id": "nYX9ZGdg1LUd"
      },
      "execution_count": 10,
      "outputs": []
    },
    {
      "cell_type": "code",
      "source": [
        "lof = LocalOutlierFactor(n_neighbors=20, contamination=0.05)\n",
        "pred_lof = lof.fit_predict(data)\n",
        "outlier_lof = np.where(pred_lof == -1)[0]"
      ],
      "metadata": {
        "id": "_8A5dN_l1Nlc"
      },
      "execution_count": 11,
      "outputs": []
    },
    {
      "cell_type": "code",
      "source": [
        "print(\"Z-score outliers at index:\", outlier_z)\n",
        "print(\"Isolation Forest outliers at index:\", outlier_iforest)\n",
        "print(\"LOF outliers at index:\", outlier_lof)"
      ],
      "metadata": {
        "colab": {
          "base_uri": "https://localhost:8080/"
        },
        "id": "ashfuvhx1QMh",
        "outputId": "11e5c4ce-432e-469e-e646-ec03ca345d6f"
      },
      "execution_count": 12,
      "outputs": [
        {
          "output_type": "stream",
          "name": "stdout",
          "text": [
            "Z-score outliers at index: [100 101 102]\n",
            "Isolation Forest outliers at index: [ 31  65  74 100 101 102]\n",
            "LOF outliers at index: [ 31  74  79 100 101 102]\n"
          ]
        }
      ]
    },
    {
      "cell_type": "code",
      "source": [
        "plt.figure(figsize=(10, 4))\n",
        "plt.scatter(range(len(data)), data, label=\"Data\")\n",
        "plt.scatter(outlier_z, data[outlier_z], color='red', label=\"Z-score Outliers\", marker='x')\n",
        "plt.scatter(outlier_iforest, data[outlier_iforest], color='orange', label=\"IF Outliers\", marker='o')\n",
        "plt.scatter(outlier_lof, data[outlier_lof], color='green', label=\"LOF Outliers\", marker='s')\n",
        "plt.legend()\n",
        "plt.title(\"Anomaly Detection Comparison\")\n",
        "plt.xlabel(\"Index\")\n",
        "plt.ylabel(\"Value\")\n",
        "plt.grid(True)\n",
        "plt.show()"
      ],
      "metadata": {
        "colab": {
          "base_uri": "https://localhost:8080/",
          "height": 410
        },
        "id": "1oJxkRCW1Ske",
        "outputId": "32889079-f3d0-4d75-dec0-6bafa3e4e08d"
      },
      "execution_count": 13,
      "outputs": [
        {
          "output_type": "display_data",
          "data": {
            "text/plain": [
              "<Figure size 1000x400 with 1 Axes>"
            ],
            "image/png": "[encoded data removed]"
          },
          "metadata": {}
        }
      ]
    },
    {
      "cell_type": "code",
      "source": [],
      "metadata": {
        "id": "1JFBte5F1V3p"
      },
      "execution_count": null,
      "outputs": []
    }
  ]
}