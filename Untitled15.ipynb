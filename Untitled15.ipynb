{
  "nbformat": 4,
  "nbformat_minor": 0,
  "metadata": {
    "colab": {
      "provenance": [],
      "authorship_tag": "ABX9TyNf6Y4I3cvU/Mh3jZL+hNGl",
      "include_colab_link": true
    },
    "kernelspec": {
      "name": "python3",
      "display_name": "Python 3"
    },
    "language_info": {
      "name": "python"
    }
  },
  "cells": [
    {
      "cell_type": "markdown",
      "metadata": {
        "id": "view-in-github",
        "colab_type": "text"
      },
      "source": [
        "<a href=\"https://colab.research.google.com/github/saxonmahar/Data_Science/blob/main/Untitled15.ipynb\" target=\"_parent\"><img src=\"https://colab.research.google.com/assets/colab-badge.svg\" alt=\"Open In Colab\"/></a>"
      ]
    },
    {
      "cell_type": "code",
      "execution_count": 3,
      "metadata": {
        "colab": {
          "base_uri": "https://localhost:8080/"
        },
        "id": "-y20AWlpmLAD",
        "outputId": "bd983cb3-19c9-4adf-a1c2-d47f8ee36ed2"
      },
      "outputs": [
        {
          "output_type": "stream",
          "name": "stdout",
          "text": [
            "Hello World\n",
            "Hello World\n"
          ]
        }
      ],
      "source": [
        "def hello():\n",
        "    print(\"Hello World\")\n",
        "\n",
        "\n",
        "hello()\n",
        "hello()\n"
      ]
    },
    {
      "cell_type": "code",
      "source": [
        "def cal():\n",
        "    l = int(input(\"Enter l = \")) #local variable\n",
        "    b = int(input(\"Enter b = \")) #local variable\n",
        "    a = l*b\n",
        "    print(a)\n",
        "\n",
        "cal()"
      ],
      "metadata": {
        "colab": {
          "base_uri": "https://localhost:8080/"
        },
        "id": "tU3toF50maB0",
        "outputId": "5d08cd60-2eb0-443d-9301-b3c6d1372ba3"
      },
      "execution_count": 4,
      "outputs": [
        {
          "output_type": "stream",
          "name": "stdout",
          "text": [
            "Enter l = 23\n",
            "Enter b = 12\n",
            "276\n"
          ]
        }
      ]
    },
    {
      "cell_type": "code",
      "source": [
        "def cal():\n",
        "    a = l*b\n",
        "    print(a)\n",
        "\n",
        "l = int(input(\"Enter l = \")) #global variable\n",
        "b = int(input(\"Enter b = \")) #global variable\n",
        "cal()"
      ],
      "metadata": {
        "colab": {
          "base_uri": "https://localhost:8080/"
        },
        "id": "oUEHhHmRmpwR",
        "outputId": "6b90762b-a56f-4eae-9490-1838c970759b"
      },
      "execution_count": 5,
      "outputs": [
        {
          "output_type": "stream",
          "name": "stdout",
          "text": [
            "Enter l = 12\n",
            "Enter b = 12\n",
            "144\n"
          ]
        }
      ]
    },
    {
      "cell_type": "code",
      "source": [
        "# argument return type\n",
        "# function without argument and no return type\n",
        "# function with argument and no return type\n",
        "# function without argument and return type\n",
        "# function with argument and return type\n"
      ],
      "metadata": {
        "id": "fgHPemcBm55J"
      },
      "execution_count": 6,
      "outputs": []
    },
    {
      "cell_type": "code",
      "source": [
        "#function with argument and no return type\n",
        "def cal(l,b):    #parameter\n",
        "    a = l*b\n",
        "    print(a)\n",
        "\n",
        "l = int(input(\"Enter l = \")) #global variable\n",
        "b = int(input(\"Enter b = \")) #global variable\n",
        "cal(l,b)"
      ],
      "metadata": {
        "colab": {
          "base_uri": "https://localhost:8080/"
        },
        "id": "mNlPpVmVnLdx",
        "outputId": "f9815856-ba79-4b3f-d156-5914921dbfd8"
      },
      "execution_count": 10,
      "outputs": [
        {
          "output_type": "stream",
          "name": "stdout",
          "text": [
            "Enter l = 14\n",
            "Enter b = 14\n",
            "196\n"
          ]
        }
      ]
    },
    {
      "cell_type": "code",
      "source": [
        "#function with argument and no return type\n",
        "def cal(x,y):    #parameter\n",
        "    a = x*y\n",
        "    print(a)\n",
        "\n",
        "l = int(input(\"Enter l = \")) #global variable\n",
        "b = int(input(\"Enter b = \")) #global variable\n",
        "cal(l,b)   #argument"
      ],
      "metadata": {
        "colab": {
          "base_uri": "https://localhost:8080/"
        },
        "id": "2_u7YOncnXlh",
        "outputId": "42b6b3e3-8a8a-426f-d2df-6119e71ee0f5"
      },
      "execution_count": 11,
      "outputs": [
        {
          "output_type": "stream",
          "name": "stdout",
          "text": [
            "Enter l = 12\n",
            "Enter b = 12\n",
            "144\n"
          ]
        }
      ]
    },
    {
      "cell_type": "code",
      "source": [
        "#function with argument and no return type\n",
        "def area(x,y):    #parameter\n",
        "    a = x*y\n",
        "    print(a)\n",
        "\n",
        "def volume(x,y,z):\n",
        "    v = x*y*z\n",
        "    print(v)\n",
        "\n",
        "l = int(input(\"Enter l = \")) #global variable\n",
        "b = int(input(\"Enter b = \")) #global variable\n",
        "h = int(input(\"Enter h = \")) #global variable\n",
        "area(l,b)   #argument\n",
        "volume(l,b,h)"
      ],
      "metadata": {
        "colab": {
          "base_uri": "https://localhost:8080/"
        },
        "id": "qefZnN5xn9Rx",
        "outputId": "24e2a4c6-62bb-4411-87f3-2e41d3cd042c"
      },
      "execution_count": 12,
      "outputs": [
        {
          "output_type": "stream",
          "name": "stdout",
          "text": [
            "Enter l = 123\n",
            "Enter b = 142\n",
            "Enter h = 2\n",
            "17466\n",
            "34932\n"
          ]
        }
      ]
    },
    {
      "cell_type": "code",
      "source": [
        "#default argument\n",
        "def language(lan = \"Python\"):\n",
        "    print(lan)\n",
        "\n"
      ],
      "metadata": {
        "id": "A4l9cGcxonZY"
      },
      "execution_count": 14,
      "outputs": []
    },
    {
      "cell_type": "code",
      "source": [
        "language()"
      ],
      "metadata": {
        "colab": {
          "base_uri": "https://localhost:8080/"
        },
        "id": "ApOaZUqHowaW",
        "outputId": "5aa6a0f1-fed9-4506-80fc-d02697523a75"
      },
      "execution_count": 15,
      "outputs": [
        {
          "output_type": "stream",
          "name": "stdout",
          "text": [
            "Python\n"
          ]
        }
      ]
    },
    {
      "cell_type": "code",
      "source": [
        "# Return type function\n",
        "def hello():\n",
        "    return \"Hello\"\n",
        "\n",
        "x = hello()\n",
        "print(x)"
      ],
      "metadata": {
        "colab": {
          "base_uri": "https://localhost:8080/"
        },
        "id": "2YBnTNxOqJCc",
        "outputId": "035bc360-7f81-40c1-a085-2531d1043694"
      },
      "execution_count": 17,
      "outputs": [
        {
          "output_type": "stream",
          "name": "stdout",
          "text": [
            "Hello\n"
          ]
        }
      ]
    },
    {
      "cell_type": "code",
      "source": [
        "# Return type function\n",
        "def hello():\n",
        "    return \"Hello\"\n",
        "\n",
        "x = hello()\n",
        "\n",
        "print(x+\"World\")"
      ],
      "metadata": {
        "colab": {
          "base_uri": "https://localhost:8080/"
        },
        "id": "IZrcmVMYqScC",
        "outputId": "b41d6c83-4ba4-4746-96e0-9f676c9dafd9"
      },
      "execution_count": 18,
      "outputs": [
        {
          "output_type": "stream",
          "name": "stdout",
          "text": [
            "HelloWorld\n"
          ]
        }
      ]
    },
    {
      "cell_type": "code",
      "source": [
        "# function with argument and return type\n",
        "\n",
        "def area(x,y):\n",
        "    a = x*y\n",
        "    return a\n",
        "\n",
        "l = int(input(\"Enter l = \"))\n",
        "b = int(input(\"Enter b = \"))\n",
        "h = int(input(\"Enter h = \"))\n",
        "\n",
        "ar = area(l,b)\n",
        "v = ar*h\n",
        "print(\"Volume = \",v)"
      ],
      "metadata": {
        "colab": {
          "base_uri": "https://localhost:8080/"
        },
        "id": "URiEWpdpra9T",
        "outputId": "d755c2a7-a09c-4ff5-dde2-83bb56c0e159"
      },
      "execution_count": 19,
      "outputs": [
        {
          "output_type": "stream",
          "name": "stdout",
          "text": [
            "Enter l = 12\n",
            "Enter b = 122\n",
            "Enter h = 11\n",
            "Volume =  16104\n"
          ]
        }
      ]
    },
    {
      "cell_type": "code",
      "source": [
        "def cal(x,y,z):\n",
        "    a = x*y\n",
        "    v = a*z\n",
        "    return a,v\n",
        "\n",
        "l = int(input(\"Enter l = \"))\n",
        "b = int(input(\"Enter b = \"))\n",
        "h = int(input(\"Enter h = \"))\n",
        "\n",
        "av = cal(l,b,h)\n",
        "\n",
        "print(av)"
      ],
      "metadata": {
        "colab": {
          "base_uri": "https://localhost:8080/"
        },
        "id": "-EXU8-rWsDX6",
        "outputId": "4e6b6077-6111-4082-a188-005e3fbf8ca9"
      },
      "execution_count": 29,
      "outputs": [
        {
          "output_type": "stream",
          "name": "stdout",
          "text": [
            "Enter l = 12\n",
            "Enter b = 12\n",
            "Enter h = 12\n",
            "(144, 1728)\n"
          ]
        }
      ]
    },
    {
      "cell_type": "code",
      "source": [
        "area,volume = av\n",
        "print(area,volume)"
      ],
      "metadata": {
        "colab": {
          "base_uri": "https://localhost:8080/"
        },
        "id": "iqrSYqcmtGWl",
        "outputId": "8e8df913-04ee-4d8d-8689-7269ab0fbc02"
      },
      "execution_count": 30,
      "outputs": [
        {
          "output_type": "stream",
          "name": "stdout",
          "text": [
            "144 1728\n"
          ]
        }
      ]
    },
    {
      "cell_type": "code",
      "source": [
        "a = 10,20,30\n",
        "print(a)\n"
      ],
      "metadata": {
        "colab": {
          "base_uri": "https://localhost:8080/"
        },
        "id": "Z2dpbKfutLl1",
        "outputId": "aaa590e6-0a3c-4b96-bd14-2368d15e51cc"
      },
      "execution_count": 31,
      "outputs": [
        {
          "output_type": "stream",
          "name": "stdout",
          "text": [
            "(10, 20, 30)\n"
          ]
        }
      ]
    },
    {
      "cell_type": "code",
      "source": [
        "def cal():\n",
        "    p = int(input(\"Enter p = \"))\n",
        "    t = float(input(\"Enter t = \"))\n",
        "    r = float(input(\"Enter r = \"))\n",
        "    i = p*t*r/100\n",
        "    print(i)\n",
        "    x = input(\"Press Enter for more cal\")\n",
        "    if x == \"\":\n",
        "        cal()\n",
        "\n",
        "cal()"
      ],
      "metadata": {
        "colab": {
          "base_uri": "https://localhost:8080/"
        },
        "id": "BOhDCR_7tOzj",
        "outputId": "91988641-7081-4c40-c0e2-2caaa3eabdc2"
      },
      "execution_count": 33,
      "outputs": [
        {
          "name": "stdout",
          "output_type": "stream",
          "text": [
            "Enter p = 12\n",
            "Enter t = 3\n",
            "Enter r = 2\n",
            "0.72\n",
            "Press Enter for more cal2\n"
          ]
        }
      ]
    },
    {
      "cell_type": "code",
      "source": [],
      "metadata": {
        "id": "P72hRHvutSci"
      },
      "execution_count": null,
      "outputs": []
    }
  ]
}